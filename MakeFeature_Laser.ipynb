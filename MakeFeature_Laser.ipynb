{
 "cells": [
  {
   "cell_type": "markdown",
   "id": "ebf89aeb-efc2-4baf-8489-7a78f1a20f18",
   "metadata": {},
   "source": [
    "# 特徴量エンジニアリング"
   ]
  },
  {
   "cell_type": "code",
   "execution_count": 1,
   "id": "3bea1c1f-211c-4005-97a8-0dcdf10388a2",
   "metadata": {},
   "outputs": [],
   "source": [
    "import os\n",
    "import time\n",
    "import warnings\n",
    "warnings.simplefilter('ignore')\n",
    "from tqdm import tqdm\n",
    "\n",
    "import numpy as np\n",
    "import pandas as pd\n",
    "import matplotlib.pyplot as plt\n",
    "from scipy.optimize import curve_fit, minimize_scalar\n",
    "from scipy import signal\n",
    "from sklearn.metrics import r2_score, mean_squared_error\n",
    "\n",
    "from FuncLaserScattering import delete_distance, smoothing_cheese, skip_distance\n",
    "from FuncLaserScattering import fitting, calc_diff, image2feature"
   ]
  },
  {
   "cell_type": "code",
   "execution_count": 2,
   "id": "28af9668-6260-4e50-a12c-6c1c4b86876c",
   "metadata": {},
   "outputs": [],
   "source": [
    "days = \"231019_MN230704\""
   ]
  },
  {
   "cell_type": "code",
   "execution_count": 5,
   "id": "a1efecb8-3410-4df8-b728-6d4ba518096d",
   "metadata": {},
   "outputs": [
    {
     "name": "stdout",
     "output_type": "stream",
     "text": [
      "start image analysis for violet_405\n",
      "HDR1\n",
      "HDR2\n",
      "HDR3\n",
      "Blend\n",
      "CPU times: user 1h 7min 29s, sys: 49.4 s, total: 1h 8min 19s\n",
      "Wall time: 1h 7min 17s\n"
     ]
    }
   ],
   "source": [
    "%%time\n",
    "# 特徴量の作成\n",
    "#for wave in ['green_532','red_633','nir_808', 'nir_850', 'violet_405']:\n",
    "#for wave in ['green_532', 'red_633']:\n",
    "#for wave in ['nir_808', 'nir_850']:\n",
    "#for wave in ['nir_850']:\n",
    "for wave in ['violet_405']:\n",
    "#for wave in ['green_532','red_633','nir_808', 'nir_850']: # 230608_MN230214のみ\n",
    "    # データの読み込み\n",
    "    total_df = pd.read_csv(f\"./../../Reserch/Laserscattering/experiment/Profile/{days}/Profile_{wave}.csv\")\n",
    "\n",
    "    # 距離と輝度（強度）を分割\n",
    "    distance = total_df.iloc[:,0]\n",
    "    cheese_df = total_df.drop('distance (mm)',axis=1)\n",
    "\n",
    "    #####解析範囲外の領域を削除#####\n",
    "    distance_30mm, cheese_df_30mm = delete_distance(distance, cheese_df)\n",
    "\n",
    "    ######プロファイルの平滑化######\n",
    "    # 0.03 mm間隔で取得し、0.5 mm〜のデータを4次元、7点で平滑化\n",
    "    distance_smooth, cheese_smooth = smoothing_cheese(distance_30mm, cheese_df_30mm)\n",
    "    \n",
    "    #####プロファイルの間引き (1 mm間隔)#####\n",
    "    # 平滑化プロファイルから1 mm間隔（0.5~29.5 mm、30点）で取得\n",
    "    distance_eq, cheese_smooth_eq = skip_distance(distance_smooth, cheese_smooth)\n",
    "    \n",
    "    #####変化率の取得#####\n",
    "    res = calc_diff(distance_eq, cheese_smooth_eq)\n",
    "\n",
    "    #####CurveFitting#####\n",
    "    eff_df = pd.DataFrame()\n",
    "    for i in range(cheese_smooth_eq.shape[1]): \n",
    "        eff_temp = fitting(distance_eq, cheese_smooth_eq.iloc[:,i])\n",
    "        eff_df = pd.concat([eff_df,eff_temp],axis=0)\n",
    "    eff_df.index = res.columns\n",
    "\n",
    "    # 結合の都合上転置する\n",
    "    eff_df = eff_df.T\n",
    "\n",
    "    #####画像から特徴量を抽出#####\n",
    "    print(f'start image analysis for {wave}')\n",
    "    # HDR1\n",
    "    print(\"HDR1\")\n",
    "    image_path1 = f\"./../../Reserch/Laserscattering/experiment/HDR1/{days}/{wave}\"\n",
    "    feature_img1 = image2feature(image_path1)\n",
    "    feature_img1.index = res.columns\n",
    "\n",
    "    # HDR2\n",
    "    print(\"HDR2\")\n",
    "    image_path2 = f\"./../../Reserch/Laserscattering/experiment/HDR2/{days}/{wave}\"\n",
    "    feature_img2 = image2feature(image_path2)\n",
    "    feature_img2.index = res.columns\n",
    "\n",
    "    # HDR3\n",
    "    print(\"HDR3\")\n",
    "    image_path3 = f\"./../../Reserch/Laserscattering/experiment/HDR3/{days}/{wave}\"\n",
    "    feature_img3 = image2feature(image_path3)\n",
    "    feature_img3.index = res.columns\n",
    "\n",
    "    # 露光合成\n",
    "    print(\"Blend\")\n",
    "    image_path4 = f\"./../../Reserch/Laserscattering/experiment/Blend/{days}/{wave}\"\n",
    "    feature_img4 = image2feature(image_path4)\n",
    "    feature_img4.index = res.columns\n",
    "\n",
    "    ####全特徴量の結合および保存#####\n",
    "    feature_df = pd.concat([eff_df, res, feature_img1.T, feature_img2.T, feature_img3.T, feature_img4.T],axis=0).T\n",
    "    #feature_df = pd.concat([eff_df, res],axis=0).T\n",
    "\n",
    "    ##### データの保存 #####\n",
    "    # indexに実際の距離が来るように指定\n",
    "    cheese_smooth.index = distance_smooth\n",
    "    cheese_smooth_eq.index = distance_eq\n",
    "    # 平滑化したもの（0.03 mm間隔）\n",
    "    cheese_smooth.to_csv(f'./../../Reserch/Laserscattering/experiment/results/Profile_smooth/Profile_{days}_{wave}.csv')\n",
    "    # 平滑化したものから1mm間隔で間引いたもの（このdfから変化率とfitting係数を取得）\n",
    "    cheese_smooth_eq.to_csv(f'./../../Reserch/Laserscattering/experiment/results/Profile_smooth/Profile_fitting_{days}_{wave}.csv')\n",
    "    #  特徴量のdf\n",
    "    feature_df.to_csv(f'./../../Reserch/Laserscattering/experiment/results/features/Feature_{days}_{wave}.csv')"
   ]
  },
  {
   "cell_type": "code",
   "execution_count": null,
   "id": "10698ed5-a323-4273-88b8-c99c4bed8532",
   "metadata": {
    "editable": true,
    "slideshow": {
     "slide_type": ""
    },
    "tags": []
   },
   "outputs": [],
   "source": []
  }
 ],
 "metadata": {
  "kernelspec": {
   "display_name": "Python 3 (ipykernel)",
   "language": "python",
   "name": "python3"
  },
  "language_info": {
   "codemirror_mode": {
    "name": "ipython",
    "version": 3
   },
   "file_extension": ".py",
   "mimetype": "text/x-python",
   "name": "python",
   "nbconvert_exporter": "python",
   "pygments_lexer": "ipython3",
   "version": "3.8.13"
  }
 },
 "nbformat": 4,
 "nbformat_minor": 5
}
